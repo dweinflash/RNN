{
  "nbformat": 4,
  "nbformat_minor": 0,
  "metadata": {
    "colab": {
      "name": "Prog2-RNN.ipynb",
      "provenance": [],
      "include_colab_link": true
    },
    "kernelspec": {
      "name": "python3",
      "display_name": "Python 3"
    },
    "accelerator": "GPU"
  },
  "cells": [
    {
      "cell_type": "markdown",
      "metadata": {
        "id": "view-in-github",
        "colab_type": "text"
      },
      "source": [
        "<a href=\"https://colab.research.google.com/github/dweinflash/RNN/blob/master/Prog2_RNN.ipynb\" target=\"_parent\"><img src=\"https://colab.research.google.com/assets/colab-badge.svg\" alt=\"Open In Colab\"/></a>"
      ]
    },
    {
      "cell_type": "code",
      "metadata": {
        "id": "gsE0AUBsK6D9",
        "colab_type": "code",
        "colab": {}
      },
      "source": [
        "import numpy as np\n",
        "import tensorflow as tf\n",
        "import matplotlib.pyplot as plt\n",
        "from keras.models import Sequential\n",
        "from keras.layers import Embedding, SimpleRNN, Dense\n",
        "from keras.preprocessing import sequence"
      ],
      "execution_count": null,
      "outputs": []
    },
    {
      "cell_type": "markdown",
      "metadata": {
        "id": "VYyd0mzWQsYR",
        "colab_type": "text"
      },
      "source": [
        "Create and investigate a SimpleRNN. \n",
        "The model stacks several recurrent layers one after the other in order to increase the representational power of the network. All intermediate layers return a full sequence of successive outputs for each timestamp. The final layer returns the output at the last timestamp (contains info of all timestamps from 0 to t)."
      ]
    },
    {
      "cell_type": "code",
      "metadata": {
        "id": "BnIwHU0FRdBa",
        "colab_type": "code",
        "colab": {
          "base_uri": "https://localhost:8080/",
          "height": 364
        },
        "outputId": "6b30bcbf-1cb0-437c-c374-e2fc16ee79c8"
      },
      "source": [
        "model = Sequential()\n",
        "model.add(Embedding(10000,32))\n",
        "model.add(SimpleRNN(32,return_sequences=True))\n",
        "model.add(SimpleRNN(32,return_sequences=True))\n",
        "model.add(SimpleRNN(32,return_sequences=True))\n",
        "model.add(SimpleRNN(32))\n",
        "model.add(Dense(1, activation='sigmoid'))\n",
        "model.summary()"
      ],
      "execution_count": null,
      "outputs": [
        {
          "output_type": "stream",
          "text": [
            "Model: \"sequential_2\"\n",
            "_________________________________________________________________\n",
            "Layer (type)                 Output Shape              Param #   \n",
            "=================================================================\n",
            "embedding_2 (Embedding)      (None, None, 32)          320000    \n",
            "_________________________________________________________________\n",
            "simple_rnn_5 (SimpleRNN)     (None, None, 32)          2080      \n",
            "_________________________________________________________________\n",
            "simple_rnn_6 (SimpleRNN)     (None, None, 32)          2080      \n",
            "_________________________________________________________________\n",
            "simple_rnn_7 (SimpleRNN)     (None, None, 32)          2080      \n",
            "_________________________________________________________________\n",
            "simple_rnn_8 (SimpleRNN)     (None, 32)                2080      \n",
            "_________________________________________________________________\n",
            "dense_2 (Dense)              (None, 1)                 33        \n",
            "=================================================================\n",
            "Total params: 328,353\n",
            "Trainable params: 328,353\n",
            "Non-trainable params: 0\n",
            "_________________________________________________________________\n"
          ],
          "name": "stdout"
        }
      ]
    },
    {
      "cell_type": "markdown",
      "metadata": {
        "id": "2CBxuhbKyNKY",
        "colab_type": "text"
      },
      "source": [
        "Apply the SimpleRNN model to classify IMDB movie reviews as positive (1) or negative (0)."
      ]
    },
    {
      "cell_type": "code",
      "metadata": {
        "id": "XmZGZrURyrb_",
        "colab_type": "code",
        "colab": {}
      },
      "source": [
        "from keras.datasets import imdb"
      ],
      "execution_count": null,
      "outputs": []
    },
    {
      "cell_type": "markdown",
      "metadata": {
        "id": "ZLrpi9VgyuGl",
        "colab_type": "text"
      },
      "source": [
        "Include only the top 10,000 most frequently occuring words in the reviews."
      ]
    },
    {
      "cell_type": "code",
      "metadata": {
        "id": "IDzZ60ntyx3c",
        "colab_type": "code",
        "colab": {
          "base_uri": "https://localhost:8080/",
          "height": 52
        },
        "outputId": "8b10c68f-8133-4aa1-c678-432e20fde60f"
      },
      "source": [
        "(train_data, train_labels), (test_data, test_labels) = imdb.load_data(num_words=10000)"
      ],
      "execution_count": null,
      "outputs": [
        {
          "output_type": "stream",
          "text": [
            "Downloading data from https://s3.amazonaws.com/text-datasets/imdb.npz\n",
            "17465344/17464789 [==============================] - 1s 0us/step\n"
          ],
          "name": "stdout"
        }
      ]
    },
    {
      "cell_type": "code",
      "metadata": {
        "id": "JTX0szowvd1A",
        "colab_type": "code",
        "colab": {
          "base_uri": "https://localhost:8080/",
          "height": 35
        },
        "outputId": "0913e5fd-7199-4f67-edf1-9141b6777734"
      },
      "source": [
        "train_data.shape"
      ],
      "execution_count": null,
      "outputs": [
        {
          "output_type": "execute_result",
          "data": {
            "text/plain": [
              "(25000,)"
            ]
          },
          "metadata": {
            "tags": []
          },
          "execution_count": 3
        }
      ]
    },
    {
      "cell_type": "markdown",
      "metadata": {
        "id": "RVveWTtFy1ge",
        "colab_type": "text"
      },
      "source": [
        "Investigate the data by decode the first review back to English words:"
      ]
    },
    {
      "cell_type": "code",
      "metadata": {
        "id": "RsKD0NDuzA2a",
        "colab_type": "code",
        "colab": {
          "base_uri": "https://localhost:8080/",
          "height": 55
        },
        "outputId": "198a0e98-3c2b-4b15-b9ef-7869ff133c9f"
      },
      "source": [
        "word_index = imdb.get_word_index()\n",
        "reverse_word_index = dict(\n",
        "    [(value, key) for (key, value) in word_index.items()])\n",
        "decoded_review = ' '.join(\n",
        "    [reverse_word_index.get(i - 3, '?') for i in train_data[0]])\n",
        "print(decoded_review)"
      ],
      "execution_count": null,
      "outputs": [
        {
          "output_type": "stream",
          "text": [
            "? this film was just brilliant casting location scenery story direction everyone's really suited the part they played and you could just imagine being there robert ? is an amazing actor and now the same being director ? father came from the same scottish island as myself so i loved the fact there was a real connection with this film the witty remarks throughout the film were great it was just brilliant so much that i bought the film as soon as it was released for ? and would recommend it to everyone to watch and the fly fishing was amazing really cried at the end it was so sad and you know what they say if you cry at a film it must have been good and this definitely was also ? to the two little boy's that played the ? of norman and paul they were just brilliant children are often left out of the ? list i think because the stars that play them all grown up are such a big profile for the whole film but these children are amazing and should be praised for what they have done don't you think the whole story was so lovely because it was true and was someone's life after all that was shared with us all\n"
          ],
          "name": "stdout"
        }
      ]
    },
    {
      "cell_type": "markdown",
      "metadata": {
        "id": "wVeWRLaQzG_0",
        "colab_type": "text"
      },
      "source": [
        "train_labels and test_labels are lists of 0s and 1s indicating which reviews are positive (1) and which are negative (0). The labels are scalars."
      ]
    },
    {
      "cell_type": "code",
      "metadata": {
        "id": "hYGozALtzILb",
        "colab_type": "code",
        "colab": {
          "base_uri": "https://localhost:8080/",
          "height": 35
        },
        "outputId": "0e8bf84c-4648-46ce-efdd-77e48000290f"
      },
      "source": [
        "print(train_labels[0])"
      ],
      "execution_count": null,
      "outputs": [
        {
          "output_type": "stream",
          "text": [
            "1\n"
          ],
          "name": "stdout"
        }
      ]
    },
    {
      "cell_type": "markdown",
      "metadata": {
        "id": "QIS6t4bMzK8n",
        "colab_type": "text"
      },
      "source": [
        "train_data and test_data are lists of reviews; each review is a list of word indices (specifies which word, lower the index higher the frequency)"
      ]
    },
    {
      "cell_type": "code",
      "metadata": {
        "id": "gRR8g39gzN1s",
        "colab_type": "code",
        "colab": {
          "base_uri": "https://localhost:8080/",
          "height": 55
        },
        "outputId": "b7c00a44-95cf-411e-fd77-42e55cad1099"
      },
      "source": [
        "print(train_data[0])"
      ],
      "execution_count": null,
      "outputs": [
        {
          "output_type": "stream",
          "text": [
            "[1, 14, 22, 16, 43, 530, 973, 1622, 1385, 65, 458, 4468, 66, 3941, 4, 173, 36, 256, 5, 25, 100, 43, 838, 112, 50, 670, 2, 9, 35, 480, 284, 5, 150, 4, 172, 112, 167, 2, 336, 385, 39, 4, 172, 4536, 1111, 17, 546, 38, 13, 447, 4, 192, 50, 16, 6, 147, 2025, 19, 14, 22, 4, 1920, 4613, 469, 4, 22, 71, 87, 12, 16, 43, 530, 38, 76, 15, 13, 1247, 4, 22, 17, 515, 17, 12, 16, 626, 18, 2, 5, 62, 386, 12, 8, 316, 8, 106, 5, 4, 2223, 5244, 16, 480, 66, 3785, 33, 4, 130, 12, 16, 38, 619, 5, 25, 124, 51, 36, 135, 48, 25, 1415, 33, 6, 22, 12, 215, 28, 77, 52, 5, 14, 407, 16, 82, 2, 8, 4, 107, 117, 5952, 15, 256, 4, 2, 7, 3766, 5, 723, 36, 71, 43, 530, 476, 26, 400, 317, 46, 7, 4, 2, 1029, 13, 104, 88, 4, 381, 15, 297, 98, 32, 2071, 56, 26, 141, 6, 194, 7486, 18, 4, 226, 22, 21, 134, 476, 26, 480, 5, 144, 30, 5535, 18, 51, 36, 28, 224, 92, 25, 104, 4, 226, 65, 16, 38, 1334, 88, 12, 16, 283, 5, 16, 4472, 113, 103, 32, 15, 16, 5345, 19, 178, 32]\n"
          ],
          "name": "stdout"
        }
      ]
    },
    {
      "cell_type": "markdown",
      "metadata": {
        "id": "PoaTEphb0ty7",
        "colab_type": "text"
      },
      "source": [
        "Transforms data into a 2D Numpy array of shape (10000, 500).\n",
        "Consider 10,000 features, each feature up to 500 of the most common words."
      ]
    },
    {
      "cell_type": "code",
      "metadata": {
        "id": "Fhz-OONx1WCW",
        "colab_type": "code",
        "colab": {}
      },
      "source": [
        "train_data = sequence.pad_sequences(train_data, maxlen=500)\n",
        "test_data = sequence.pad_sequences(test_data, maxlen=500)"
      ],
      "execution_count": null,
      "outputs": []
    },
    {
      "cell_type": "markdown",
      "metadata": {
        "id": "U4z6908r2k36",
        "colab_type": "text"
      },
      "source": [
        "Train the model with Embedding and SimpleRNN layers."
      ]
    },
    {
      "cell_type": "code",
      "metadata": {
        "id": "o5nViLhC2p3J",
        "colab_type": "code",
        "colab": {
          "base_uri": "https://localhost:8080/",
          "height": 381
        },
        "outputId": "526f7ad8-a9f4-4689-be73-1e04a3f3da41"
      },
      "source": [
        "model.compile(optimizer='rmsprop', loss='binary_crossentropy', metrics=['acc'])\n",
        "history = model.fit(train_data, train_labels, epochs=10, batch_size=128, validation_split=0.2)"
      ],
      "execution_count": null,
      "outputs": [
        {
          "output_type": "stream",
          "text": [
            "Train on 20000 samples, validate on 5000 samples\n",
            "Epoch 1/10\n",
            "20000/20000 [==============================] - 132s 7ms/step - loss: 0.6830 - acc: 0.5517 - val_loss: 0.6264 - val_acc: 0.6580\n",
            "Epoch 2/10\n",
            "20000/20000 [==============================] - 131s 7ms/step - loss: 0.4626 - acc: 0.7853 - val_loss: 0.5284 - val_acc: 0.7160\n",
            "Epoch 3/10\n",
            "20000/20000 [==============================] - 130s 6ms/step - loss: 0.3313 - acc: 0.8641 - val_loss: 0.5242 - val_acc: 0.7914\n",
            "Epoch 4/10\n",
            "20000/20000 [==============================] - 129s 6ms/step - loss: 0.2523 - acc: 0.9016 - val_loss: 0.4199 - val_acc: 0.8162\n",
            "Epoch 5/10\n",
            "20000/20000 [==============================] - 129s 6ms/step - loss: 0.1784 - acc: 0.9375 - val_loss: 0.4543 - val_acc: 0.8360\n",
            "Epoch 6/10\n",
            "20000/20000 [==============================] - 128s 6ms/step - loss: 0.1092 - acc: 0.9624 - val_loss: 0.9958 - val_acc: 0.7638\n",
            "Epoch 7/10\n",
            "20000/20000 [==============================] - 128s 6ms/step - loss: 0.0685 - acc: 0.9783 - val_loss: 0.6217 - val_acc: 0.8374\n",
            "Epoch 8/10\n",
            "20000/20000 [==============================] - 127s 6ms/step - loss: 0.0381 - acc: 0.9866 - val_loss: 0.8509 - val_acc: 0.8236\n",
            "Epoch 9/10\n",
            "20000/20000 [==============================] - 127s 6ms/step - loss: 0.0261 - acc: 0.9914 - val_loss: 0.8263 - val_acc: 0.8128\n",
            "Epoch 10/10\n",
            "20000/20000 [==============================] - 128s 6ms/step - loss: 0.0160 - acc: 0.9951 - val_loss: 0.8476 - val_acc: 0.8306\n"
          ],
          "name": "stdout"
        }
      ]
    },
    {
      "cell_type": "markdown",
      "metadata": {
        "id": "saGKvx1Y8RKU",
        "colab_type": "text"
      },
      "source": [
        "Display the training and validation loss accuracy."
      ]
    },
    {
      "cell_type": "code",
      "metadata": {
        "id": "WHrKl4bJ8Ux3",
        "colab_type": "code",
        "colab": {
          "base_uri": "https://localhost:8080/",
          "height": 545
        },
        "outputId": "3ddc3c09-f5b3-48fd-813b-5204188978ff"
      },
      "source": [
        "acc = history.history['acc']\n",
        "val_acc = history.history['val_acc']\n",
        "loss = history.history['loss']\n",
        "val_loss = history.history['val_loss']\n",
        "\n",
        "epochs = range(1, len(acc) + 1)\n",
        "\n",
        "plt.plot(epochs, acc, 'bo', label='Training acc')\n",
        "plt.plot(epochs, val_acc, 'b', label='Validation acc')\n",
        "\n",
        "plt.title('Training and validation accuracy')\n",
        "plt.legend()\n",
        "\n",
        "plt.figure()\n",
        "\n",
        "plt.plot(epochs, loss, 'bo', label='Training loss')\n",
        "plt.plot(epochs, val_loss, 'b', label='Validation loss')\n",
        "plt.title('Training and validation loss')\n",
        "plt.legend()\n",
        "\n",
        "plt.show()"
      ],
      "execution_count": null,
      "outputs": [
        {
          "output_type": "display_data",
          "data": {
            "image/png": "[encoded data removed]",
            "text/plain": [
              "<Figure size 432x288 with 1 Axes>"
            ]
          },
          "metadata": {
            "tags": []
          }
        },
        {
          "output_type": "display_data",
          "data": {
            "image/png": "[encoded data removed]",
            "text/plain": [
              "<Figure size 432x288 with 1 Axes>"
            ]
          },
          "metadata": {
            "tags": []
          }
        }
      ]
    },
    {
      "cell_type": "markdown",
      "metadata": {
        "id": "Qp7v-8Yq9PSn",
        "colab_type": "text"
      },
      "source": [
        "Unfortunately, the recurrent network does not perform well - it achieves a maximum validation accuracy of only 83.74% during the 7th epoch. It seems the SimpleRNN model is too simplistic to be of real use. Indeed, the SimpleRNN network has a major issue: it is unable to maintain and learn long-term dependencies. In other words, the SimpleRNN suffers from the vanishing gradient problem, where the network becomes increasingly untrainable as layers are added to the network. "
      ]
    }
  ]
}